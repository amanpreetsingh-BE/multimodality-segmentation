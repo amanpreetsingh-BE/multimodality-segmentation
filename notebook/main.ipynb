{
 "cells": [
  {
   "cell_type": "markdown",
   "metadata": {},
   "source": [
    "# Multimodality segmentation of brain lesions in patients with Multiple Sclerosis"
   ]
  },
  {
   "cell_type": "markdown",
   "metadata": {},
   "source": [
    "The goal of this project is to segment white matter lesions in patients with Multiple Sclerosis by using a custom segmentation algorithm using multimodality (MPRAGE and FLAIR). This project is part of the course WSBIM2243 given at UCLouvain in Belgium. \n",
    "\n",
    "The method is compared with classical method such as Otsu and Expectation-Maximization.\n",
    "\n",
    "<img src=\"img/MS.png\"/>\n",
    "\n",
    "The workflow is the following and each part is detailled in the notebook \n",
    "\n",
    "<img src=\"img/pipeline.png\"/>\n",
    "\n",
    "GitHub repo : https://github.com/amanpreetsingh-BE/WSBIM2243 <br/>\n",
    "Using with docker in command line type : 'docker run -it -p 8888:8888 amsingh05/wsbim2243'"
   ]
  },
  {
   "cell_type": "markdown",
   "metadata": {},
   "source": [
    "## 0.1 Import dependencies"
   ]
  },
  {
   "cell_type": "code",
   "execution_count": 1,
   "metadata": {},
   "outputs": [
    {
     "name": "stdout",
     "output_type": "stream",
     "text": [
      "[INFO] Imports done\n"
     ]
    }
   ],
   "source": [
    "# Required imports (installed with Docker)\n",
    "import os,sys,inspect, platform\n",
    "current_dir = os.path.dirname(os.path.abspath(inspect.getfile(inspect.currentframe())))\n",
    "parent_dir = os.path.dirname(current_dir)\n",
    "sys.path.insert(0, parent_dir)\n",
    "sys.path.insert(1, './../utils/')\n",
    "\n",
    "import warnings\n",
    "warnings.simplefilter(\"ignore\", FutureWarning)\n",
    "\n",
    "from dicom2bids import *\n",
    "from utils import *\n",
    "\n",
    "from matplotlib import pyplot as plt\n",
    "\n",
    "print(\"[INFO] Imports done\")"
   ]
  },
  {
   "cell_type": "markdown",
   "metadata": {},
   "source": [
    "## 0.2 Define paths"
   ]
  },
  {
   "cell_type": "code",
   "execution_count": 6,
   "metadata": {},
   "outputs": [
    {
     "name": "stdout",
     "output_type": "stream",
     "text": [
      "[Exception Caught] BIDS directory already exists.\n",
      "[INFO] Defined paths done\n"
     ]
    }
   ],
   "source": [
    "# Creating Output BIDS directory: INSERT YOUR OWN LOCAL PATH\n",
    "try:\n",
    "    os.mkdir(\"../../data/bids_dir\")\n",
    "    os.mkdir(\"../../data/bids_dir/derivatives\")\n",
    "    os.mkdir(\"../../data/bids_dir/derivatives/transformations\")\n",
    "    os.mkdir(\"../../data/bids_dir/derivatives/stats\")\n",
    "    os.mkdir(\"../../data/bids_dir/derivatives/samseg\")\n",
    "    os.mkdir(\"../../data/bids_dir/derivatives/segmentations\")\n",
    "except FileExistsError:\n",
    "    print(\"[Exception Caught] BIDS directory already exists.\")\n",
    "\n",
    "bids_dir = \"../../data/bids_dir\"\n",
    "\n",
    "# Path to dcm2niix.exe converter\n",
    "\n",
    "if(platform.system() == 'Darwin'):\n",
    "    dicom2niix_path = \"../utils/dcm2niix\" # for Mac users\n",
    "if(platform.system() == 'Windows'):\n",
    "    dicom2niix_path = \"../utils/dcm2niix.exe\" # for Windows users\n",
    "else:\n",
    "    dicom2niix_path = \"../utils/dcm2niix-lnx\" # for Linux users\n",
    "\n",
    "print(\"[INFO] Defined paths done\")"
   ]
  },
  {
   "cell_type": "markdown",
   "metadata": {},
   "source": [
    "## 1. Import and convert DICOM to nifti and put in BIDS format\n",
    "\n",
    "The first step is to convert the raw DICOM files downloaded from the MRI software into an organized structure with folders and consistent naming (BIDS format (brain imaging data structure)). All utility functions are stored in the 'dicom2bids.py' file.\n",
    "\n"
   ]
  },
  {
   "cell_type": "code",
   "execution_count": 7,
   "metadata": {},
   "outputs": [
    {
     "name": "stdout",
     "output_type": "stream",
     "text": [
      "[INFO] Starting to convert ...\n",
      "SUBDIR: D:\\WSBIM\\sub-019\\3DT2_065mm_iso_0\tDIRS: []\n",
      "SUBDIR: D:\\WSBIM\\sub-019\\t1_mprage_sag_Natif_SwissMS_0\tDIRS: []\n",
      "SUBDIR: D:\\WSBIM\\sub-019\\t2_spc3d_sag_flair_64cx_0\tDIRS: []\n",
      "[INFO] Converted all dicom files to compressed nifti\n",
      "[]\n",
      "SERIES: 3DT2*_0.65mm_iso\n",
      "   Filenames: ['_3DT2_065mm_iso_0_3DT2_0.65mm_iso_20180807084817_14_', '_3DT2_065mm_iso_0_3DT2_0.65mm_iso_20180807084817_15_ph']\n",
      "   RENAME: []\n",
      "\n",
      "\n",
      "['MPRAGE']\n",
      "SERIES: t1_mprage_sag_Natif_SwissMS\n",
      "   Filenames: ['_t1_mprage_sag_Natif_SwissMS_0_t1_mprage_sag_Natif_SwissMS_20180807084817_6_']\n",
      "   RENAME: ['MPRAGE']\n",
      "\n",
      "\n",
      "['FLAIR']\n",
      "SERIES: t2_spc3d_sag_flair 64cx\n",
      "   Filenames: ['_t2_spc3d_sag_flair_64cx_0_t2_spc3d_sag_flair_64cx_20180807084817_18_']\n",
      "   RENAME: ['FLAIR']\n",
      "\n",
      "\n",
      "[INFO] ID 001 was given to this subject\n",
      "[INFO] Done\n"
     ]
    }
   ],
   "source": [
    "# Path to DICOM directory\n",
    "directory = \"D:\\WSBIM\\sub-019\"\n",
    "\n",
    "# Convert all DICOMs\n",
    "dicom_series = convert_all_dicoms(directory, dicom2niix_path, convert=True)\n",
    "\n",
    "# Create directories in the BIDS file structure by giving an incremental id\n",
    "pat_id, session = make_directories(bids_dir,pat_id=None,session=None)\n",
    "# To specify the patient id:\n",
    "# pat_id, session = make_directories(bids_dir,pat_id='ID_TO_SPECIFY',session=None)\n",
    "# To specify the patient id and session:\n",
    "# pat_id, session = make_directories(bids_dir,pat_id='ID_TO_SPECIFY',session='SESSION_TO_SPECIFY')\n",
    "\n",
    "# Rename and move all (interesting) converted files into the bids directory\n",
    "rename_and_move_nifti(dicom_series, bids_dir, pat_id, session)\n",
    "\n",
    "print(f\"[INFO] ID {pat_id} was given to this subject\")\n",
    "print(\"[INFO] Done\")"
   ]
  },
  {
   "cell_type": "code",
   "execution_count": 9,
   "metadata": {},
   "outputs": [],
   "source": [
    "# There are multiple patients with each an assigned id, define patient to work with (for instance here the\n",
    "# patient with id 001). \n",
    "#pat_id = '001'\n",
    "subject = pat_id"
   ]
  },
  {
   "cell_type": "markdown",
   "metadata": {},
   "source": [
    "## 2. Registrate MPRAGE to FLAIR images\n",
    "\n",
    "The next step is to registrate the MPRAGE on FLAIR. \n",
    "MPRAGE modality is used to make a mask of the white and grey matter (WM-GM highly visible on MPRAGE) and the FLAIR is used to detect the lesions (lesions highly visible on FLAIR). The mask will allow to exclude the lesions in grey matter which are smaller and more challening to detect. The output is saved in 'derivatives/transformations' folder of the BIDS structure.\n",
    "\n",
    "For this purpose we used simpleITK library <br/>\n",
    "\n",
    "Note : the optimizer used is the gradient descent, the metric is the mutual information and the method is designated as 'Euler3DTransform' which is a rigid 3D transform"
   ]
  },
  {
   "cell_type": "code",
   "execution_count": 10,
   "metadata": {},
   "outputs": [
    {
     "name": "stdout",
     "output_type": "stream",
     "text": [
      "Final metric value: -0.6679080759937346\n",
      "Optimizer's stopping condition, GradientDescentOptimizerv4Template: Convergence checker passed at iteration 39.\n",
      "[INFO] Done : registreted image stored in 'derivatives/transformations' folder of BIDS structure\n"
     ]
    }
   ],
   "source": [
    "# registrate patient\n",
    "mprage2flair_registration(bids_dir, subject)\n",
    "print(\"[INFO] Done : registreted image stored in 'derivatives/transformations' folder of BIDS structure\")"
   ]
  },
  {
   "cell_type": "markdown",
   "metadata": {},
   "source": [
    "## 3. Compute Brain mask (skull stripping)\n",
    "The next step is to extract the brain mask (skull stripping) from the MPRAGE contrast and apply it to FLAIR. To do this, we used FSL on earlier version but it was too heavy and complicated to include in a jupyter notebook. Therefore, we used deepbrain library which uses CNN to extract the brain (tensorflow based). The output is saved in 'derivatives/transformations' folder of the BIDS structure."
   ]
  },
  {
   "cell_type": "code",
   "execution_count": 11,
   "metadata": {},
   "outputs": [
    {
     "name": "stderr",
     "output_type": "stream",
     "text": [
      "WARNING: Logging before flag parsing goes to stderr.\n",
      "W0615 10:10:16.959060 12036 deprecation_wrapper.py:119] From C:\\Users\\maxen\\Anaconda3\\lib\\site-packages\\deepbrain\\extractor.py:18: The name tf.Session is deprecated. Please use tf.compat.v1.Session instead.\n",
      "\n",
      "W0615 10:10:16.989181 12036 deprecation.py:323] From C:\\Users\\maxen\\Anaconda3\\lib\\site-packages\\deepbrain\\extractor.py:19: FastGFile.__init__ (from tensorflow.python.platform.gfile) is deprecated and will be removed in a future version.\n",
      "Instructions for updating:\n",
      "Use tf.gfile.GFile.\n",
      "W0615 10:10:16.989181 12036 deprecation_wrapper.py:119] From C:\\Users\\maxen\\Anaconda3\\lib\\site-packages\\deepbrain\\extractor.py:20: The name tf.GraphDef is deprecated. Please use tf.compat.v1.GraphDef instead.\n",
      "\n"
     ]
    },
    {
     "name": "stdout",
     "output_type": "stream",
     "text": [
      "[INFO] Done : the MPRAGE brain and brainmask stored in 'derivatives/transformations' folder of BIDS structure\n"
     ]
    }
   ],
   "source": [
    "# Compute brainmask on registered MPRAGE\n",
    "make_brainmask(bids_dir, subject, save_mask=True)\n",
    "print(\"[INFO] Done : the MPRAGE brain and brainmask stored in 'derivatives/transformations' folder of BIDS structure\")"
   ]
  },
  {
   "cell_type": "markdown",
   "metadata": {},
   "source": [
    "## 4. Apply brain mask on FLAIR\n",
    "\n",
    "In the step 4, we computed the mask of the brain on the MPRAGE, and the same mask can be applied to the FLAIR in order to extract the brain (since they are registered) "
   ]
  },
  {
   "cell_type": "code",
   "execution_count": 12,
   "metadata": {},
   "outputs": [
    {
     "name": "stdout",
     "output_type": "stream",
     "text": [
      "[INFO] Done : binary brainmask applied, FLAIR brain stored in 'Derivatives/Transformations' folder of BIDS structure\n"
     ]
    }
   ],
   "source": [
    "# Apply mask on FLAIR\n",
    "apply_brainmask(bids_dir, subject)\n",
    "print(\"[INFO] Done : binary brainmask applied, FLAIR brain stored in 'derivatives/transformations' folder of BIDS structure\")"
   ]
  },
  {
   "cell_type": "code",
   "execution_count": 17,
   "metadata": {},
   "outputs": [
    {
     "data": {
      "text/plain": [
       "Text(0.5, 1.0, 'MPRAGE registreted on FLAIR')"
      ]
     },
     "execution_count": 17,
     "metadata": {},
     "output_type": "execute_result"
    },
    {
     "data": {
      "image/png": "[encoded data removed]",
      "text/plain": [
       "<Figure size 432x288 with 2 Axes>"
      ]
     },
     "metadata": {
      "needs_background": "light"
     },
     "output_type": "display_data"
    }
   ],
   "source": [
    "# Illustration of the brains skull stripped and registred\n",
    "\n",
    "FLAIR = nib.load(bids_dir+'/derivatives/transformations/sub-'+subject+'/ses-01/sub-'+subject+'_ses-01_FLAIR_brain.nii.gz')\n",
    "FLAIR = FLAIR.get_fdata()\n",
    "MPRAGE_REG = nib.load(bids_dir+'/derivatives/transformations/sub-'+subject+'/ses-01/sub-'+subject+'_ses-01_MPRAGE_brain.nii.gz')\n",
    "MPRAGE_REG = MPRAGE_REG.get_fdata()\n",
    "\n",
    "fig = plt.figure()\n",
    "\n",
    "plt.subplot(1,2,1)\n",
    "plt.axis('off')\n",
    "plt.imshow(FLAIR[:,:,170], cmap=plt.cm.gray)\n",
    "plt.title('FLAIR')\n",
    "plt.subplot(1,2,2)\n",
    "plt.axis('off')\n",
    "plt.imshow(MPRAGE_REG[:,:,170], cmap=plt.cm.gray)\n",
    "plt.title('MPRAGE registered on FLAIR')\n"
   ]
  },
  {
   "cell_type": "markdown",
   "metadata": {},
   "source": [
    "## 5. Segment grey matter (GM) and white matter (WM)\n",
    "\n",
    "For the moment, we have the brains (without the skull) of the MPRAGE and FLAIR and both are registered.\n",
    "The final goal is to segment lesions in white matter only (lesions in gray matter are more challenging to detect). Therefore, once we get our skull stripped MPRAGE and FLAIR images, we segment the white and gray matter on the MPRAGE (WM and GM easily visible) using Otsu."
   ]
  },
  {
   "cell_type": "code",
   "execution_count": 14,
   "metadata": {},
   "outputs": [
    {
     "name": "stdout",
     "output_type": "stream",
     "text": [
      "[INFO] Done : MPRAGE is segmented into 2 class, stored in 'derivatives/segmentations' folder of BIDS structure\n"
     ]
    }
   ],
   "source": [
    "# Make the grey matter-white matter segmentation\n",
    "make_gm_wm_mask(bids_dir, subject)\n",
    "print(\"[INFO] Done : MPRAGE is segmented into 2 class, stored in 'derivatives/segmentations' folder of BIDS structure\")"
   ]
  },
  {
   "cell_type": "code",
   "execution_count": 18,
   "metadata": {},
   "outputs": [
    {
     "data": {
      "text/plain": [
       "Text(0.5, 1.0, 'WM-GM segmented on MPRAGE')"
      ]
     },
     "execution_count": 18,
     "metadata": {},
     "output_type": "execute_result"
    },
    {
     "data": {
      "image/png": "[encoded data removed]",
      "text/plain": [
       "<Figure size 432x288 with 1 Axes>"
      ]
     },
     "metadata": {
      "needs_background": "light"
     },
     "output_type": "display_data"
    }
   ],
   "source": [
    "# Illustration of the MPRAGE segmentation\n",
    "\n",
    "MPRAGE_seg = nib.load(bids_dir+'/derivatives/segmentations/sub-'+subject+'/ses-01/sub-'+subject+'_ses-01_gm_wm.nii.gz')\n",
    "MPRAGE_seg = MPRAGE_seg.get_fdata()\n",
    "fig = plt.figure()\n",
    "plt.axis('off')\n",
    "plt.imshow(MPRAGE_seg[:,:,170], cmap=plt.cm.gray)\n",
    "plt.title('WM-GM segmented on MPRAGE')"
   ]
  },
  {
   "cell_type": "markdown",
   "metadata": {},
   "source": [
    "## 6. Make the lesion mask\n",
    "\n",
    "The goal of this step is to Match histogram with reference image (or not) : \n",
    " - Pick (or not) an intensity and a range for lesions. \n",
    " - Apply median filter to smooth the mask and remove too small lesions\n",
    " - Exclude lesions whose center of mass in located in the gray matter\n"
   ]
  },
  {
   "cell_type": "code",
   "execution_count": 19,
   "metadata": {},
   "outputs": [
    {
     "name": "stdout",
     "output_type": "stream",
     "text": [
      "Lesion 1/85: (37, 95, 120)> discarded (val = 500.0)\n",
      "Lesion 2/85: (58, 100, 135)> retained\n",
      "Lesion 3/85: (58, 111, 134)> retained\n",
      "Lesion 4/85: (59, 100, 129)> retained\n",
      "Lesion 5/85: (59, 138, 144)> retained\n",
      "Lesion 6/85: (60, 104, 126)> retained\n",
      "Lesion 7/85: (60, 116, 136)> retained\n",
      "Lesion 8/85: (62, 102, 127)> retained\n",
      "Lesion 9/85: (63, 115, 137)> retained\n",
      "Lesion 10/85: (62, 137, 142)> retained\n",
      "Lesion 11/85: (64, 80, 161)> retained\n",
      "Lesion 12/85: (65, 75, 151)> retained\n",
      "Lesion 13/85: (64, 122, 132)> retained\n",
      "Lesion 14/85: (64, 136, 135)> retained\n",
      "Lesion 15/85: (66, 86, 143)> discarded (val = 500.0)\n",
      "Lesion 16/85: (66, 121, 140)> retained\n",
      "Lesion 17/85: (69, 134, 136)> retained\n",
      "Lesion 18/85: (68, 120, 134)> retained\n",
      "Lesion 19/85: (69, 92, 148)> retained\n",
      "Lesion 20/85: (70, 103, 128)> retained\n",
      "Lesion 21/85: (71, 88, 147)> discarded (val = 500.0)\n",
      "Lesion 22/85: (70, 118, 138)> retained\n",
      "Lesion 23/85: (71, 93, 149)> retained\n",
      "Lesion 24/85: (73, 169, 149)> retained\n",
      "Lesion 25/85: (74, 106, 102)> retained\n",
      "Lesion 26/85: (74, 94, 151)> retained\n",
      "Lesion 27/85: (75, 124, 136)> retained\n",
      "Lesion 28/85: (78, 140, 141)> discarded (val = 500.0)\n",
      "Lesion 29/85: (77, 149, 157)> retained\n",
      "Lesion 30/85: (77, 124, 133)> retained\n",
      "Lesion 31/85: (78, 97, 155)> discarded (val = 500.0)\n",
      "Lesion 32/85: (81, 96, 105)> retained\n",
      "Lesion 33/85: (81, 151, 142)> discarded (val = 500.0)\n",
      "Lesion 34/85: (83, 128, 152)> retained\n",
      "Lesion 35/85: (87, 99, 143)> retained\n",
      "Lesion 36/85: (86, 128, 144)> retained\n",
      "Lesion 37/85: (86, 136, 145)> retained\n",
      "Lesion 38/85: (86, 136, 152)> retained\n",
      "Lesion 39/85: (87, 97, 131)> retained\n",
      "Lesion 40/85: (87, 100, 99)> discarded (val = 500.0)\n",
      "Lesion 41/85: (89, 129, 139)> discarded (val = 500.0)\n",
      "Lesion 42/85: (87, 147, 143)> discarded (val = 500.0)\n",
      "Lesion 43/85: (87, 146, 146)> retained\n",
      "Lesion 44/85: (88, 106, 164)> retained\n",
      "Lesion 45/85: (88, 121, 155)> discarded (val = 500.0)\n",
      "Lesion 46/85: (88, 144, 143)> discarded (val = 500.0)\n",
      "Lesion 47/85: (89, 99, 159)> retained\n",
      "Lesion 48/85: (89, 137, 145)> discarded (val = 0.0)\n",
      "Lesion 49/85: (90, 96, 156)> retained\n",
      "Lesion 50/85: (92, 127, 142)> retained\n",
      "Lesion 51/85: (92, 129, 146)> retained\n",
      "Lesion 52/85: (92, 136, 147)> retained\n",
      "Lesion 53/85: (93, 129, 153)> retained\n",
      "Lesion 54/85: (97, 135, 142)> discarded (val = 0.0)\n",
      "Lesion 55/85: (98, 96, 155)> discarded (val = 500.0)\n",
      "Lesion 56/85: (104, 126, 137)> retained\n",
      "Lesion 57/85: (103, 104, 100)> retained\n",
      "Lesion 58/85: (105, 92, 149)> discarded (val = 500.0)\n",
      "Lesion 59/85: (106, 85, 146)> discarded (val = 500.0)\n",
      "Lesion 60/85: (106, 91, 147)> discarded (val = 500.0)\n",
      "Lesion 61/85: (110, 84, 141)> discarded (val = 500.0)\n",
      "Lesion 62/85: (109, 106, 99)> discarded (val = 0.0)\n",
      "Lesion 63/85: (108, 115, 133)> retained\n",
      "Lesion 64/85: (109, 91, 144)> retained\n",
      "Lesion 65/85: (109, 122, 136)> retained\n",
      "Lesion 66/85: (109, 162, 140)> retained\n",
      "Lesion 67/85: (110, 119, 140)> retained\n",
      "Lesion 68/85: (110, 136, 139)> discarded (val = 0.0)\n",
      "Lesion 69/85: (111, 142, 138)> discarded (val = 0.0)\n",
      "Lesion 70/85: (111, 85, 149)> discarded (val = 500.0)\n",
      "Lesion 71/85: (111, 118, 132)> retained\n",
      "Lesion 72/85: (111, 154, 135)> retained\n",
      "Lesion 73/85: (112, 110, 136)> retained\n",
      "Lesion 74/85: (115, 76, 136)> retained\n",
      "Lesion 75/85: (114, 114, 133)> retained\n",
      "Lesion 76/85: (113, 134, 139)> discarded (val = 500.0)\n",
      "Lesion 77/85: (115, 94, 138)> retained\n",
      "Lesion 78/85: (116, 103, 132)> retained\n",
      "Lesion 79/85: (117, 115, 130)> retained\n",
      "Lesion 80/85: (120, 112, 121)> discarded (val = 500.0)\n",
      "Lesion 81/85: (119, 115, 131)> retained\n",
      "Lesion 82/85: (124, 138, 138)> discarded (val = 500.0)\n",
      "Lesion 83/85: (128, 125, 140)> retained\n",
      "Lesion 84/85: (131, 108, 120)> discarded (val = 0.0)\n",
      "Lesion 85/85: (146, 126, 138)> retained\n",
      "Discarded lesions: 26\n"
     ]
    }
   ],
   "source": [
    "# Compute lesion mask without histogram matching to a reference image(not advised)\n",
    "compute_lesion_mask(bids_dir, subject, intensity=260, range_down=40, range_up=40)\n",
    "\n",
    "# Compute lesion mask with histogram matching to a reference image : \n",
    "# histogram_matching(bids_dir, subject)\n",
    "# compute_lesion_mask(bids_dir, subject, intensity=1300 , range_down=150, range_up=350, matched=True)"
   ]
  },
  {
   "cell_type": "code",
   "execution_count": 26,
   "metadata": {},
   "outputs": [
    {
     "data": {
      "text/plain": [
       "Text(0.5, 1.0, 'Lesion mask')"
      ]
     },
     "execution_count": 26,
     "metadata": {},
     "output_type": "execute_result"
    },
    {
     "data": {
      "image/png": "[encoded data removed]",
      "text/plain": [
       "<Figure size 720x720 with 2 Axes>"
      ]
     },
     "metadata": {
      "needs_background": "light"
     },
     "output_type": "display_data"
    }
   ],
   "source": [
    "# Illustration of the Lesion segmentation found\n",
    "\n",
    "FLAIR = nib.load(bids_dir+'/derivatives/transformations/sub-'+subject+'/ses-01/sub-'+subject+'_ses-01_FLAIR_brain.nii.gz')\n",
    "FLAIR = FLAIR.get_fdata()\n",
    "lesions = nib.load(bids_dir+'/derivatives/segmentations/sub-'+subject+'/ses-01/sub-'+subject+'_ses-01_lesion-mask.nii.gz')\n",
    "lesions = lesions.get_fdata()\n",
    "\n",
    "fig = plt.figure(figsize=(10,10))\n",
    "\n",
    "plt.subplot(1,2,1)\n",
    "plt.axis('off')\n",
    "plt.imshow(FLAIR[:,:,158], cmap=plt.cm.gray)\n",
    "plt.title('FLAIR')\n",
    "plt.subplot(1,2,2)\n",
    "plt.axis('off')\n",
    "plt.imshow(lesions[:,:,158], cmap=plt.cm.gray)\n",
    "plt.title('Lesion mask')\n",
    "plt.subplot(2,2,1)\n",
    "plt.axis('off')\n",
    "plt.imshow(FLAIR[:,:,163], cmap=plt.cm.gray)\n",
    "plt.title('FLAIR')\n",
    "plt.subplot(2,2,2)\n",
    "plt.axis('off')\n",
    "plt.imshow(lesions[:,:,163], cmap=plt.cm.gray)\n",
    "plt.title('Lesion mask')"
   ]
  },
  {
   "cell_type": "markdown",
   "metadata": {},
   "source": [
    "## 7. Region growing (TODO)\n",
    "\n",
    "Finally, we can apply region growing on each lesion's 'center of mass' "
   ]
  },
  {
   "cell_type": "markdown",
   "metadata": {},
   "source": [
    "+Show result ! "
   ]
  },
  {
   "cell_type": "code",
   "execution_count": null,
   "metadata": {},
   "outputs": [],
   "source": []
  },
  {
   "cell_type": "markdown",
   "metadata": {},
   "source": [
    "## 8. Comparison with OTSU method"
   ]
  },
  {
   "cell_type": "code",
   "execution_count": null,
   "metadata": {},
   "outputs": [],
   "source": []
  },
  {
   "cell_type": "markdown",
   "metadata": {},
   "source": [
    "## 9. Comparison with EM method\n"
   ]
  },
  {
   "cell_type": "code",
   "execution_count": null,
   "metadata": {},
   "outputs": [],
   "source": []
  }
 ],
 "metadata": {
  "kernelspec": {
   "display_name": "Python 3",
   "language": "python",
   "name": "python3"
  },
  "language_info": {
   "codemirror_mode": {
    "name": "ipython",
    "version": 3
   },
   "file_extension": ".py",
   "mimetype": "text/x-python",
   "name": "python",
   "nbconvert_exporter": "python",
   "pygments_lexer": "ipython3",
   "version": "3.7.9"
  }
 },
 "nbformat": 4,
 "nbformat_minor": 2
}
