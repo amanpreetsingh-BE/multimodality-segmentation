{
 "cells": [
  {
   "cell_type": "markdown",
   "metadata": {},
   "source": [
    "# Multimodality segmentation of brain lesions in patients with Multiple Sclerosis"
   ]
  },
  {
   "cell_type": "markdown",
   "metadata": {},
   "source": [
    "The goal of this project is to segment brain lesions in patients with Multiple Sclerosis by using a custom segmentation algorithm using multimodality (MPRAGE and FLAIR). This project is part of the course WSBIM2243 given at UCLouvain in Belgium. \n",
    "\n",
    "The method is compared with classical method such as Otsu, Expectation-Maximization and Region Growing.\n",
    "\n",
    "<img src=\"img/MS.png\"/>\n",
    "\n",
    "The workflow is the following and each part is detailled in the notebook \n",
    "\n",
    "<img src=\"img/pipeline.png\"/>\n",
    "\n",
    "GitHub repo : https://github.com/amanpreetsingh-BE/WSBIM2243 <br/>\n",
    "Using with docker in command line type : 'docker run -it -p 8888:8888 amsingh05/wsbim2243'"
   ]
  },
  {
   "cell_type": "markdown",
   "metadata": {},
   "source": [
    "## 0.1 Import dependencies"
   ]
  },
  {
   "cell_type": "code",
   "execution_count": 1,
   "metadata": {},
   "outputs": [
    {
     "name": "stdout",
     "output_type": "stream",
     "text": [
      "[INFO] Imports done\n"
     ]
    }
   ],
   "source": [
    "# Required imports (installed with Docker)\n",
    "import os,sys,inspect, platform\n",
    "current_dir = os.path.dirname(os.path.abspath(inspect.getfile(inspect.currentframe())))\n",
    "parent_dir = os.path.dirname(current_dir)\n",
    "sys.path.insert(0, parent_dir)\n",
    "sys.path.insert(1, './../utils/')\n",
    "\n",
    "import warnings\n",
    "warnings.simplefilter(\"ignore\", FutureWarning)\n",
    "\n",
    "from dicom2bids import *\n",
    "from utils import *\n",
    "\n",
    "from matplotlib import pyplot as plt\n",
    "\n",
    "print(\"[INFO] Imports done\")"
   ]
  },
  {
   "cell_type": "markdown",
   "metadata": {},
   "source": [
    "## 0.2 Define paths"
   ]
  },
  {
   "cell_type": "code",
   "execution_count": 4,
   "metadata": {},
   "outputs": [
    {
     "name": "stdout",
     "output_type": "stream",
     "text": [
      "[INFO] Defined paths done\n"
     ]
    }
   ],
   "source": [
    "# Output BIDS directory. Should previously be created.\n",
    "bids_dir = \"/Users/asikh/Desktop/bids_dir\"\n",
    "\n",
    "# Path to dcm2niix.exe converter\n",
    "\n",
    "dicom2niix_path = 'dcm2niix' # for mac users\n",
    "\n",
    "if(platform.system() == 'Windows'):\n",
    "    dicom2niix_path = \"dcm2niix.exe\" # for Windows users\n",
    "\n",
    "print(\"[INFO] Defined paths done\")"
   ]
  },
  {
   "cell_type": "markdown",
   "metadata": {},
   "source": [
    "## 1. Import and convert DICOM to nifti and put in BIDS format\n",
    "\n",
    "The first step is to convert the raw DICOM files coming from the machine into an organized structure with folders and consistent naming (BIDS format (brain imaging data structure)). In order to do so, we wrote a script 'dicom2bids.py'.\n",
    "\n"
   ]
  },
  {
   "cell_type": "code",
   "execution_count": 5,
   "metadata": {},
   "outputs": [
    {
     "name": "stdout",
     "output_type": "stream",
     "text": [
      "[INFO] Starting to convert ...\n",
      "SUBDIR: /Users/asikh/Desktop/madameX/3DT2_065mm_iso_0\tDIRS: []\n",
      "SUBDIR: /Users/asikh/Desktop/madameX/t1_mprage_sag_Natif_SwissMS_0\tDIRS: []\n",
      "SUBDIR: /Users/asikh/Desktop/madameX/t2_spc3d_sag_flair_64cx_0\tDIRS: []\n",
      "[INFO] Converted all dicom files to compressed nifti\n",
      "[]\n",
      "SERIES: 3DT2*_0.65mm_iso\n",
      "   Filenames: ['_3DT2_065mm_iso_0_3DT2_0.65mm_iso_20180807084817_14_', '_3DT2_065mm_iso_0_3DT2_0.65mm_iso_20180807084817_15_ph']\n",
      "   RENAME: []\n",
      "\n",
      "\n",
      "['MPRAGE']\n",
      "SERIES: t1_mprage_sag_Natif_SwissMS\n",
      "   Filenames: ['_t1_mprage_sag_Natif_SwissMS_0_t1_mprage_sag_Natif_SwissMS_20180807084817_6_']\n",
      "   RENAME: ['MPRAGE']\n",
      "\n",
      "\n",
      "['FLAIR']\n",
      "SERIES: t2_spc3d_sag_flair 64cx\n",
      "   Filenames: ['_t2_spc3d_sag_flair_64cx_0_t2_spc3d_sag_flair_64cx_20180807084817_18_']\n",
      "   RENAME: ['FLAIR']\n",
      "\n",
      "\n",
      "[INFO] ID 001 was given to this subject\n",
      "[INFO] Done\n"
     ]
    }
   ],
   "source": [
    "# Path to dicom directory containing subjects\n",
    "directory = \"/Users/asikh/Desktop/madameX\" \n",
    "\n",
    "# Convert all DICOMs\n",
    "dicom_series = convert_all_dicoms(directory, dicom2niix_path, convert=True)\n",
    "\n",
    "# Create directories in the BIDS file structure by giving an incremental id\n",
    "pat_id, session = make_directories(bids_dir,pat_id=None,session=None)\n",
    "# To specify the patient id:\n",
    "# pat_id, session = make_directories(bids_dir,pat_id='ID_TO_SPECIFY',session=None)\n",
    "# To specify the patient id and session:\n",
    "# pat_id, session = make_directories(bids_dir,pat_id='ID_TO_SPECIFY',session='SESSION_TO_SPECIFY')\n",
    "\n",
    "# Rename and move all (interesting) converted files into the bids directory\n",
    "rename_and_move_nifti(dicom_series, bids_dir, pat_id, session)\n",
    "\n",
    "print(f\"[INFO] ID {pat_id} was given to this subject\")\n",
    "print(\"[INFO] Done\")"
   ]
  },
  {
   "cell_type": "code",
   "execution_count": 7,
   "metadata": {},
   "outputs": [],
   "source": [
    "# There are multiple patients with multiple assigned id, define patient to work with (for instance here the\n",
    "# patient with id 001)\n",
    "#pat_id = '001'\n",
    "subject = pat_id"
   ]
  },
  {
   "cell_type": "markdown",
   "metadata": {},
   "source": [
    "## 2. Registrate MPRAGE to FLAIR images\n",
    "\n",
    "The next step is to registrate the MPRAGE on FLAIR. \n",
    "MPRAGE modality is used to make a mask of the white and grey matter (WM-GM highly visible on MPRAGE) and the FLAIR is used to detect the lesions (lesions highly visible on FLAIR). The mask will allow to exclude the lesions in grey matter which are smaller and more difficult to detect. The output is saved in 'derivatives' folder of the BIDS structure.\n",
    "\n",
    "For this purpose we used simpleITK library <br/>\n",
    "\n",
    "Note : the optimizer used is the gradient descent, the metric is the mutual information and the method is designated as 'Euler3DTransform' which is a rigid 3D transform"
   ]
  },
  {
   "cell_type": "code",
   "execution_count": 8,
   "metadata": {},
   "outputs": [
    {
     "name": "stdout",
     "output_type": "stream",
     "text": [
      "Final metric value: -0.6763432467460672\n",
      "Optimizer's stopping condition, GradientDescentOptimizerv4Template: Convergence checker passed at iteration 43.\n",
      "[INFO] Done : registreted image stored in 'derivatives/transformations' folder of BIDS structure\n"
     ]
    }
   ],
   "source": [
    "# registrate patient\n",
    "mprage2flair_registration(bids_dir, subject)\n",
    "print(\"[INFO] Done : registreted image stored in 'derivatives/transformations' folder of BIDS structure\")"
   ]
  },
  {
   "cell_type": "markdown",
   "metadata": {},
   "source": [
    "## 3. Compute Brain mask (skull stripping)\n",
    "The next step is to extract the brain mask (skull stripping) from the MPRAGE contrast and apply it to FLAIR. To do this, we used FSL on earlier version but it was too heavy and complicated to include in a jupyter notebook. Therefore, we used deepbrain library which uses CNN to extract the brain (tensorflow based). The output is saved in 'derivatives/transformations' folder of the BIDS structure."
   ]
  },
  {
   "cell_type": "code",
   "execution_count": 9,
   "metadata": {},
   "outputs": [
    {
     "name": "stdout",
     "output_type": "stream",
     "text": [
      "WARNING:tensorflow:From /Users/asikh/opt/miniconda3/lib/python3.7/site-packages/deepbrain/extractor.py:19: FastGFile.__init__ (from tensorflow.python.platform.gfile) is deprecated and will be removed in a future version.\n",
      "Instructions for updating:\n",
      "Use tf.gfile.GFile.\n",
      "[INFO] Done : the MPRAGE brain and brainmask stored in 'Derivatives/Transformations' folder of BIDS structure\n"
     ]
    }
   ],
   "source": [
    "# Compute brainmask on registered MPRAGE\n",
    "make_brainmask(bids_dir, subject, save_mask=True)\n",
    "print(\"[INFO] Done : the MPRAGE brain and brainmask stored in 'derivatives/transformations' folder of BIDS structure\")"
   ]
  },
  {
   "cell_type": "markdown",
   "metadata": {},
   "source": [
    "## 4. Apply brain mask on FLAIR\n",
    "\n",
    "In the step 4, we computed the mask of the brain on the MPRAGE, and the same mask can be applied to the FLAIR in order to extract the brain (since they are registered) "
   ]
  },
  {
   "cell_type": "code",
   "execution_count": 10,
   "metadata": {},
   "outputs": [
    {
     "name": "stdout",
     "output_type": "stream",
     "text": [
      "[INFO] Done : binary brainmask applied, FLAIR brain stored in 'Derivatives/Transformations' folder of BIDS structure\n"
     ]
    }
   ],
   "source": [
    "# Apply mask on FLAIR\n",
    "apply_brainmask(bids_dir, subject)\n",
    "print(\"[INFO] Done : binary brainmask applied, FLAIR brain stored in 'Derivatives/Transformations' folder of BIDS structure\")"
   ]
  },
  {
   "cell_type": "code",
   "execution_count": 38,
   "metadata": {},
   "outputs": [
    {
     "data": {
      "text/plain": [
       "Text(0.5, 1.0, 'MPRAGE registreted on FLAIR')"
      ]
     },
     "execution_count": 38,
     "metadata": {},
     "output_type": "execute_result"
    },
    {
     "data": {
      "image/png": "[encoded data removed]",
      "text/plain": [
       "<Figure size 432x288 with 2 Axes>"
      ]
     },
     "metadata": {
      "needs_background": "light"
     },
     "output_type": "display_data"
    }
   ],
   "source": [
    "# Illustration of the brains skull stripped and registred\n",
    "\n",
    "FLAIR = nib.load(bids_dir+'/derivatives/transformations/sub-'+subject+'/ses-01/sub-'+subject+'_ses-01_FLAIR_brain.nii.gz')\n",
    "FLAIR = FLAIR.get_fdata()\n",
    "MPRAGE_REG = nib.load(bids_dir+'/derivatives/transformations/sub-'+subject+'/ses-01/sub-'+subject+'_ses-01_MPRAGE_brain.nii.gz')\n",
    "MPRAGE_REG = MPRAGE_REG.get_fdata()\n",
    "\n",
    "fig = plt.figure()\n",
    "\n",
    "plt.subplot(1,2,1)\n",
    "plt.axis('off')\n",
    "plt.imshow(FLAIR[:,:,170], cmap=plt.cm.gray)\n",
    "plt.title('FLAIR')\n",
    "plt.subplot(1,2,2)\n",
    "plt.axis('off')\n",
    "plt.imshow(MPRAGE_REG[:,:,170], cmap=plt.cm.gray)\n",
    "plt.title('MPRAGE registreted on FLAIR')\n"
   ]
  },
  {
   "cell_type": "markdown",
   "metadata": {},
   "source": [
    "## 5. Segment grey matter (GM) and white matter (WM)\n",
    "\n",
    "For the moment, we have the brains (without the skull) of the MPRAGE and FLAIR and both are registered.\n",
    "The final goal is to segment lesions in white matter only (lesions in gray matter are more challenging to detect). Therefore, once we get our skull stripped MPRAGE and FLAIR images, we segment the white and gray matter on the MPRAGE (WM and GM easily visible) using Otsu."
   ]
  },
  {
   "cell_type": "code",
   "execution_count": 11,
   "metadata": {},
   "outputs": [
    {
     "name": "stdout",
     "output_type": "stream",
     "text": [
      "[INFO] Done : FLAIR is segmented into 2 class, stored in 'Derivatives/segmentations' folder of BIDS structure\n"
     ]
    }
   ],
   "source": [
    "# Make the grey matter-white matter segmentation\n",
    "make_gm_wm_mask(bids_dir, subject)\n",
    "print(\"[INFO] Done : FLAIR is segmented into 2 class, stored in 'derivatives/segmentations' folder of BIDS structure\")"
   ]
  },
  {
   "cell_type": "code",
   "execution_count": 45,
   "metadata": {},
   "outputs": [
    {
     "data": {
      "text/plain": [
       "Text(0.5, 1.0, 'WM-GM segmented on MPRAGE')"
      ]
     },
     "execution_count": 45,
     "metadata": {},
     "output_type": "execute_result"
    },
    {
     "data": {
      "image/png": "[encoded data removed]",
      "text/plain": [
       "<Figure size 432x288 with 1 Axes>"
      ]
     },
     "metadata": {
      "needs_background": "light"
     },
     "output_type": "display_data"
    }
   ],
   "source": [
    "# Illustration of the MPRAGE segmentation\n",
    "\n",
    "MPRAGE_seg = nib.load(bids_dir+'/derivatives/segmentations/sub-'+subject+'/ses-01/sub-'+subject+'_ses-01_gm_wm.nii.gz')\n",
    "MPRAGE_seg = MPRAGE_seg.get_fdata()\n",
    "fig = plt.figure()\n",
    "plt.axis('off')\n",
    "plt.imshow(MPRAGE_seg[:,:,170], cmap=plt.cm.gray)\n",
    "plt.title('WM-GM segmented on MPRAGE')"
   ]
  },
  {
   "cell_type": "markdown",
   "metadata": {},
   "source": [
    "## 6. Make the lesion mask\n",
    "\n",
    "The goal of this step is to Match histogram with reference image (or not) : \n",
    " - Pick (or not) an intensity and a range for lesions. \n",
    " - Apply median filter to smooth the mask and remove too small lesions\n",
    " - Exclude lesions whose center of mass is in located in the gray matter\n"
   ]
  },
  {
   "cell_type": "code",
   "execution_count": 12,
   "metadata": {},
   "outputs": [
    {
     "name": "stdout",
     "output_type": "stream",
     "text": [
      "Lesion 1/86: (37, 95, 120)> discarded (val = 0.0)\n",
      "Lesion 2/86: (58, 100, 135)> retained\n",
      "Lesion 3/86: (58, 111, 134)> retained\n",
      "Lesion 4/86: (59, 100, 129)> retained\n",
      "Lesion 5/86: (59, 138, 144)> discarded (val = 500.0)\n",
      "Lesion 6/86: (60, 104, 126)> retained\n",
      "Lesion 7/86: (60, 116, 136)> retained\n",
      "Lesion 8/86: (62, 102, 127)> retained\n",
      "Lesion 9/86: (63, 115, 137)> retained\n",
      "Lesion 10/86: (62, 137, 142)> retained\n",
      "Lesion 11/86: (64, 80, 161)> retained\n",
      "Lesion 12/86: (65, 75, 151)> retained\n",
      "Lesion 13/86: (64, 122, 132)> retained\n",
      "Lesion 14/86: (64, 136, 135)> discarded (val = 500.0)\n",
      "Lesion 15/86: (66, 86, 143)> discarded (val = 500.0)\n",
      "Lesion 16/86: (66, 121, 140)> retained\n",
      "Lesion 17/86: (69, 134, 136)> retained\n",
      "Lesion 18/86: (68, 120, 134)> retained\n",
      "Lesion 19/86: (69, 92, 148)> discarded (val = 500.0)\n",
      "Lesion 20/86: (70, 103, 128)> retained\n",
      "Lesion 21/86: (71, 88, 147)> discarded (val = 500.0)\n",
      "Lesion 22/86: (70, 118, 138)> retained\n",
      "Lesion 23/86: (71, 93, 149)> retained\n",
      "Lesion 24/86: (74, 106, 102)> retained\n",
      "Lesion 25/86: (73, 171, 150)> retained\n",
      "Lesion 26/86: (74, 94, 151)> retained\n",
      "Lesion 27/86: (75, 124, 136)> retained\n",
      "Lesion 28/86: (75, 129, 132)> retained\n",
      "Lesion 29/86: (78, 140, 141)> discarded (val = 500.0)\n",
      "Lesion 30/86: (77, 149, 157)> retained\n",
      "Lesion 31/86: (77, 124, 133)> retained\n",
      "Lesion 32/86: (78, 97, 155)> retained\n",
      "Lesion 33/86: (81, 96, 105)> retained\n",
      "Lesion 34/86: (81, 151, 142)> discarded (val = 500.0)\n",
      "Lesion 35/86: (83, 128, 152)> retained\n",
      "Lesion 36/86: (87, 99, 143)> retained\n",
      "Lesion 37/86: (86, 128, 144)> retained\n",
      "Lesion 38/86: (86, 136, 145)> retained\n",
      "Lesion 39/86: (86, 136, 152)> retained\n",
      "Lesion 40/86: (87, 97, 131)> retained\n",
      "Lesion 41/86: (87, 100, 99)> retained\n",
      "Lesion 42/86: (89, 129, 139)> discarded (val = 500.0)\n",
      "Lesion 43/86: (87, 147, 143)> retained\n",
      "Lesion 44/86: (87, 146, 146)> retained\n",
      "Lesion 45/86: (88, 106, 164)> discarded (val = 500.0)\n",
      "Lesion 46/86: (88, 121, 155)> discarded (val = 500.0)\n",
      "Lesion 47/86: (88, 144, 143)> discarded (val = 500.0)\n",
      "Lesion 48/86: (89, 99, 159)> retained\n",
      "Lesion 49/86: (89, 137, 145)> discarded (val = 500.0)\n",
      "Lesion 50/86: (90, 96, 156)> retained\n",
      "Lesion 51/86: (92, 127, 142)> retained\n",
      "Lesion 52/86: (92, 129, 146)> retained\n",
      "Lesion 53/86: (92, 136, 147)> retained\n",
      "Lesion 54/86: (93, 129, 153)> retained\n",
      "Lesion 55/86: (97, 135, 142)> discarded (val = 0.0)\n",
      "Lesion 56/86: (98, 96, 155)> discarded (val = 500.0)\n",
      "Lesion 57/86: (104, 126, 137)> retained\n",
      "Lesion 58/86: (103, 104, 100)> discarded (val = 500.0)\n",
      "Lesion 59/86: (105, 92, 149)> discarded (val = 500.0)\n",
      "Lesion 60/86: (106, 85, 146)> discarded (val = 500.0)\n",
      "Lesion 61/86: (106, 91, 147)> retained\n",
      "Lesion 62/86: (110, 84, 141)> discarded (val = 500.0)\n",
      "Lesion 63/86: (109, 106, 99)> discarded (val = 0.0)\n",
      "Lesion 64/86: (108, 115, 133)> retained\n",
      "Lesion 65/86: (108, 159, 138)> retained\n",
      "Lesion 66/86: (109, 91, 144)> retained\n",
      "Lesion 67/86: (109, 122, 136)> retained\n",
      "Lesion 68/86: (109, 161, 140)> retained\n",
      "Lesion 69/86: (110, 119, 140)> retained\n",
      "Lesion 70/86: (110, 136, 139)> discarded (val = 500.0)\n",
      "Lesion 71/86: (111, 142, 138)> discarded (val = 0.0)\n",
      "Lesion 72/86: (111, 85, 149)> discarded (val = 0.0)\n",
      "Lesion 73/86: (111, 118, 132)> retained\n",
      "Lesion 74/86: (112, 110, 136)> retained\n",
      "Lesion 75/86: (115, 76, 136)> discarded (val = 500.0)\n",
      "Lesion 76/86: (114, 114, 133)> retained\n",
      "Lesion 77/86: (113, 134, 139)> discarded (val = 500.0)\n",
      "Lesion 78/86: (115, 94, 138)> retained\n",
      "Lesion 79/86: (116, 103, 132)> retained\n",
      "Lesion 80/86: (117, 115, 130)> retained\n",
      "Lesion 81/86: (120, 112, 121)> retained\n",
      "Lesion 82/86: (119, 115, 131)> retained\n",
      "Lesion 83/86: (124, 138, 138)> discarded (val = 500.0)\n",
      "Lesion 84/86: (128, 125, 140)> retained\n",
      "Lesion 85/86: (131, 108, 120)> discarded (val = 0.0)\n",
      "Lesion 86/86: (146, 126, 138)> retained\n",
      "Discarded lesions: 27\n"
     ]
    }
   ],
   "source": [
    "# Compute lesion mask without histogram matching to a reference image(not advised)\n",
    "compute_lesion_mask(bids_dir, subject, intensity=260, range_down=40, range_up=40)\n",
    "\n",
    "# Compute lesion mask with histogram matching to a reference image : \n",
    "# histogram_matching(bids_dir, subject)\n",
    "# compute_lesion_mask(bids_dir, subject, intensity=1300 , range_down=150, range_up=350, matched=True)"
   ]
  },
  {
   "cell_type": "markdown",
   "metadata": {},
   "source": [
    "## 7. Region growing (TODO)\n",
    "\n",
    "Finally, we can apply region growing on each lesion's 'center of mass' "
   ]
  },
  {
   "cell_type": "markdown",
   "metadata": {},
   "source": [
    "+Show result ! "
   ]
  },
  {
   "cell_type": "code",
   "execution_count": null,
   "metadata": {},
   "outputs": [],
   "source": []
  },
  {
   "cell_type": "markdown",
   "metadata": {},
   "source": [
    "## 8. Comparison with OTSU method"
   ]
  },
  {
   "cell_type": "code",
   "execution_count": null,
   "metadata": {},
   "outputs": [],
   "source": []
  },
  {
   "cell_type": "markdown",
   "metadata": {},
   "source": [
    "## 9. Comparison with EM method\n"
   ]
  },
  {
   "cell_type": "code",
   "execution_count": null,
   "metadata": {},
   "outputs": [],
   "source": []
  }
 ],
 "metadata": {
  "kernelspec": {
   "display_name": "Python 3",
   "language": "python",
   "name": "python3"
  },
  "language_info": {
   "codemirror_mode": {
    "name": "ipython",
    "version": 3
   },
   "file_extension": ".py",
   "mimetype": "text/x-python",
   "name": "python",
   "nbconvert_exporter": "python",
   "pygments_lexer": "ipython3",
   "version": "3.7.4"
  }
 },
 "nbformat": 4,
 "nbformat_minor": 2
}
